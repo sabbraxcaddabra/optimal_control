{
 "cells": [
  {
   "cell_type": "code",
   "execution_count": 6,
   "id": "73597558-14f7-48fa-bd26-120367d2d561",
   "metadata": {},
   "outputs": [],
   "source": [
    "import numpy as np\n",
    "from scipy.integrate import solve_ivp\n",
    "import matplotlib.pyplot as plt"
   ]
  },
  {
   "cell_type": "code",
   "execution_count": 7,
   "id": "b621b3f2-3da1-4b99-9651-201e473eafa2",
   "metadata": {},
   "outputs": [],
   "source": [
    "H_LIST = np.array([0, 50, 100, 200, 300, 400, 500, 600, 700, 800, 900, 1000, 5000, 10000, 20000])\n",
    "A_LIST = np.array([340.29, 340.10, 339.91, 339.53, 339.14, 338.76, 338.38, 337.98, 337.6, 337.21, 336.82, 336.43, 320.54, 299.53, 295.07])"
   ]
  },
  {
   "cell_type": "code",
   "execution_count": 8,
   "id": "8036633d-48c0-4f09-a5e4-cc4faa5a4a37",
   "metadata": {},
   "outputs": [],
   "source": [
    "MACH_LIST = np.array([0.4, 0.6, 0.7, 0.8, 0.9, 1.0, 1.1, 1.2, 1.3, 1.4, 1.5, 1.6,\n",
    "                     1.7, 1.8, 1.9, 2.0, 2.1, 2.2, 2.3, 2.4, 2.5, 2.6, 2.7,\n",
    "                     2.8, 2.9, 3.0, 3.1, 3.2, 3.3, 3.4, 3.5, 3.6])\n",
    "\n",
    "CX43_LIST = np.array([0.157, 0.158, 0.158, 0.160, 0.190, 0.325, 0.378, 0.385, 0.381, 0.371,\n",
    "                    0.361, 0.351, 0.342, 0.332, 0.324, 0.316, 0.309, 0.303, 0.297,\n",
    "                    0.292, 0.287, 0.283, 0.279, 0.277, 0.273, 0.270, 0.267, 0.265,\n",
    "                    0.263, 0.263, 0.261, 0.260])"
   ]
  },
  {
   "cell_type": "code",
   "execution_count": 46,
   "id": "af50fe09-bebc-4284-81a7-81871c3c4eff",
   "metadata": {},
   "outputs": [],
   "source": [
    "class ExtBalRS:\n",
    "\n",
    "    def __init__(self, q, d, cx_list, mach_list, rho0=1.225, k=2, h=1e-3):\n",
    "\n",
    "        self.q = q\n",
    "        self.S = np.pi * 0.25 * d * d\n",
    "        self.cx_list = cx_list\n",
    "        self.mach_list = mach_list\n",
    "        self.rho0 = rho0\n",
    "        self.k = k\n",
    "        self.h = h\n",
    "\n",
    "    def cx(self, v, y):\n",
    "        a_zv = np.interp(y, H_LIST, A_LIST)\n",
    "        M = v / a_zv\n",
    "        cx = np.interp(M, self.mach_list, self.cx_list)\n",
    "        return cx\n",
    "\n",
    "    def dcx_dv(self, v, y):\n",
    "        dv = v * self.h\n",
    "        return (self.cx(v+dv, y) - self.cx(v-dv, y)) / (2*dv)\n",
    "\n",
    "    def dcx_dy(self, v, y):\n",
    "        if y == 0:\n",
    "            return 0\n",
    "        dy = y * self.h\n",
    "        return (self.cx(v, y+dy) - self.cx(v, y-dy)) / (2*dy)\n",
    "\n",
    "    def H(self, y):\n",
    "        return ((20000 - y) / (20000 + y))\n",
    "\n",
    "    def dH_dy(self, y):\n",
    "        return -(1/(y+20000))-(20000-y)/(y+20000)**2\n",
    "\n",
    "\n",
    "    def get_i(self, Pv, v, y):\n",
    "        rho = self.rho0 * self.H(y)\n",
    "        S = self.S\n",
    "        q = self.q\n",
    "        k = self.k\n",
    "        return -0.5 * (Pv * S * k**2 * v**2 * self.cx(v, y) * rho)/q\n",
    "\n",
    "    def external_bal_rs(self, t, y):\n",
    "        p = y[4:]\n",
    "        y = y[:4]\n",
    "        Px, Py, Pv, Ptheta = p\n",
    "        \n",
    "        S = self.S\n",
    "        q = self.q\n",
    "        k = self.k\n",
    "        rho0 = self.rho0\n",
    "        rho = rho0 * self.H(y)\n",
    "        \n",
    "        g = 9.80665\n",
    "        # dy = np.zeros_like(y)\n",
    "        # dp = np.zeros_like(p)\n",
    "\n",
    "        # Расчет производных вектора состояния\n",
    "        x, y, v, theta = y\n",
    "        i = self.get_i(Pv, v, y)\n",
    "        \n",
    "        cx = self.cx(v, y)\n",
    "        dx = v * np.cos(theta)  # Расчет приращения координаты X\n",
    "        dy = v * np.sin(theta)  # Расчет приращения координаты Y\n",
    "        Fx = -0.5 * i * cx * rho * v * v  # Расчет силы лобового сопротивления\n",
    "        dv = (Fx * S - q * g * np.sin(theta)) / q  # Расчет приращения скорости V\n",
    "        dtheta = -g * np.cos(theta) / v  # Расчет приращения угла teta\n",
    "\n",
    "        # Расчет производных вектора сопряженных переменных\n",
    "\n",
    "        dpv = Pv * (0.5 * S * i * v**2 * self.dcx_dv(v, y) * rho + S * i * v * self.cx(v, y) * rho) / q\n",
    "        dpv += Py * np.sin(theta)\n",
    "        dpv += Ptheta * g * np.cos(theta) / v / v\n",
    "        dpv += Px * np.cos(theta)\n",
    "\n",
    "        dpx = 0\n",
    "\n",
    "        dpy = Pv * (0.5 * S * i * v**2 * self.cx(v, y) * self.dH_dy(y) * rho0 + 0.5 * S * i * v**2 * self.dcx_dy(v, y) * rho) / q\n",
    "\n",
    "        dptheta = -(Px * v * np.sin(theta)) + Ptheta * g * np.sin(theta) / v + Py * v * np.cos(theta) - Pv * g * np.cos(theta)\n",
    "        \n",
    "        return [dx, dy, dv, dtheta, Px, Py, Pv, Ptheta]"
   ]
  },
  {
   "cell_type": "code",
   "execution_count": 47,
   "id": "878cc1b8-aa7b-4b70-8c5c-46c70ca89930",
   "metadata": {},
   "outputs": [],
   "source": [
    "bal_rs = ExtBalRS(43, 0.1524, CX43_LIST, MACH_LIST)"
   ]
  },
  {
   "cell_type": "code",
   "execution_count": 48,
   "id": "5b0d4b88-ac40-4010-9ded-c59eab4e1e71",
   "metadata": {},
   "outputs": [],
   "source": [
    "v0 = 950\n",
    "x0 = 0\n",
    "y0 = 0\n",
    "theta0 = np.deg2rad(45)\n",
    "Px = Py = Pv = Ptheta = 3"
   ]
  },
  {
   "cell_type": "code",
   "execution_count": 49,
   "id": "bd23669d-e496-481b-b3d9-653cb70e9aeb",
   "metadata": {},
   "outputs": [],
   "source": [
    "state0 = [x0, y0, v0, theta0, Px, Py, Pv, Ptheta]"
   ]
  },
  {
   "cell_type": "code",
   "execution_count": 50,
   "id": "5b3aae7d-7345-48f1-81da-82122b9fa782",
   "metadata": {},
   "outputs": [],
   "source": [
    "hit_ground = lambda t, y, *args: y[1]\n",
    "hit_ground.terminal = True\n",
    "hit_ground.direction = -1"
   ]
  },
  {
   "cell_type": "code",
   "execution_count": 51,
   "id": "1802dfa6-ca40-4111-8752-60c594fe1df8",
   "metadata": {},
   "outputs": [
    {
     "ename": "ValueError",
     "evalue": "setting an array element with a sequence. The requested array has an inhomogeneous shape after 1 dimensions. The detected shape was (8,) + inhomogeneous part.",
     "output_type": "error",
     "traceback": [
      "\u001b[0;31m---------------------------------------------------------------------------\u001b[0m",
      "\u001b[0;31mValueError\u001b[0m                                Traceback (most recent call last)",
      "Cell \u001b[0;32mIn[51], line 1\u001b[0m\n\u001b[0;32m----> 1\u001b[0m sol \u001b[38;5;241m=\u001b[39m \u001b[43msolve_ivp\u001b[49m\u001b[43m(\u001b[49m\u001b[43mbal_rs\u001b[49m\u001b[38;5;241;43m.\u001b[39;49m\u001b[43mexternal_bal_rs\u001b[49m\u001b[43m,\u001b[49m\n\u001b[1;32m      2\u001b[0m \u001b[43m                \u001b[49m\u001b[43m(\u001b[49m\u001b[38;5;241;43m0.\u001b[39;49m\u001b[43m,\u001b[49m\u001b[43m \u001b[49m\u001b[38;5;241;43m200\u001b[39;49m\u001b[43m)\u001b[49m\u001b[43m,\u001b[49m\n\u001b[1;32m      3\u001b[0m \u001b[43m                \u001b[49m\u001b[43mstate0\u001b[49m\u001b[43m,\u001b[49m\n\u001b[1;32m      4\u001b[0m \u001b[43m                \u001b[49m\u001b[43mdense_output\u001b[49m\u001b[38;5;241;43m=\u001b[39;49m\u001b[38;5;28;43;01mTrue\u001b[39;49;00m\u001b[43m,\u001b[49m\n\u001b[1;32m      5\u001b[0m \u001b[43m                \u001b[49m\u001b[43mt_eval\u001b[49m\u001b[38;5;241;43m=\u001b[39;49m\u001b[43mnp\u001b[49m\u001b[38;5;241;43m.\u001b[39;49m\u001b[43mlinspace\u001b[49m\u001b[43m(\u001b[49m\u001b[38;5;241;43m0\u001b[39;49m\u001b[43m,\u001b[49m\u001b[43m \u001b[49m\u001b[38;5;241;43m200\u001b[39;49m\u001b[43m,\u001b[49m\u001b[43m \u001b[49m\u001b[38;5;241;43m200\u001b[39;49m\u001b[43m)\u001b[49m\u001b[43m,\u001b[49m\n\u001b[1;32m      6\u001b[0m \u001b[43m                \u001b[49m\u001b[43mevents\u001b[49m\u001b[38;5;241;43m=\u001b[39;49m\u001b[43mhit_ground\u001b[49m\n\u001b[1;32m      7\u001b[0m \u001b[43m               \u001b[49m\u001b[43m)\u001b[49m\n",
      "File \u001b[0;32m~/anaconda3/lib/python3.10/site-packages/scipy/integrate/_ivp/ivp.py:557\u001b[0m, in \u001b[0;36msolve_ivp\u001b[0;34m(fun, t_span, y0, method, t_eval, dense_output, events, vectorized, args, **options)\u001b[0m\n\u001b[1;32m    554\u001b[0m \u001b[38;5;28;01mif\u001b[39;00m method \u001b[38;5;129;01min\u001b[39;00m METHODS:\n\u001b[1;32m    555\u001b[0m     method \u001b[38;5;241m=\u001b[39m METHODS[method]\n\u001b[0;32m--> 557\u001b[0m solver \u001b[38;5;241m=\u001b[39m \u001b[43mmethod\u001b[49m\u001b[43m(\u001b[49m\u001b[43mfun\u001b[49m\u001b[43m,\u001b[49m\u001b[43m \u001b[49m\u001b[43mt0\u001b[49m\u001b[43m,\u001b[49m\u001b[43m \u001b[49m\u001b[43my0\u001b[49m\u001b[43m,\u001b[49m\u001b[43m \u001b[49m\u001b[43mtf\u001b[49m\u001b[43m,\u001b[49m\u001b[43m \u001b[49m\u001b[43mvectorized\u001b[49m\u001b[38;5;241;43m=\u001b[39;49m\u001b[43mvectorized\u001b[49m\u001b[43m,\u001b[49m\u001b[43m \u001b[49m\u001b[38;5;241;43m*\u001b[39;49m\u001b[38;5;241;43m*\u001b[39;49m\u001b[43moptions\u001b[49m\u001b[43m)\u001b[49m\n\u001b[1;32m    559\u001b[0m \u001b[38;5;28;01mif\u001b[39;00m t_eval \u001b[38;5;129;01mis\u001b[39;00m \u001b[38;5;28;01mNone\u001b[39;00m:\n\u001b[1;32m    560\u001b[0m     ts \u001b[38;5;241m=\u001b[39m [t0]\n",
      "File \u001b[0;32m~/anaconda3/lib/python3.10/site-packages/scipy/integrate/_ivp/rk.py:94\u001b[0m, in \u001b[0;36mRungeKutta.__init__\u001b[0;34m(self, fun, t0, y0, t_bound, max_step, rtol, atol, vectorized, first_step, **extraneous)\u001b[0m\n\u001b[1;32m     92\u001b[0m \u001b[38;5;28mself\u001b[39m\u001b[38;5;241m.\u001b[39mmax_step \u001b[38;5;241m=\u001b[39m validate_max_step(max_step)\n\u001b[1;32m     93\u001b[0m \u001b[38;5;28mself\u001b[39m\u001b[38;5;241m.\u001b[39mrtol, \u001b[38;5;28mself\u001b[39m\u001b[38;5;241m.\u001b[39matol \u001b[38;5;241m=\u001b[39m validate_tol(rtol, atol, \u001b[38;5;28mself\u001b[39m\u001b[38;5;241m.\u001b[39mn)\n\u001b[0;32m---> 94\u001b[0m \u001b[38;5;28mself\u001b[39m\u001b[38;5;241m.\u001b[39mf \u001b[38;5;241m=\u001b[39m \u001b[38;5;28;43mself\u001b[39;49m\u001b[38;5;241;43m.\u001b[39;49m\u001b[43mfun\u001b[49m\u001b[43m(\u001b[49m\u001b[38;5;28;43mself\u001b[39;49m\u001b[38;5;241;43m.\u001b[39;49m\u001b[43mt\u001b[49m\u001b[43m,\u001b[49m\u001b[43m \u001b[49m\u001b[38;5;28;43mself\u001b[39;49m\u001b[38;5;241;43m.\u001b[39;49m\u001b[43my\u001b[49m\u001b[43m)\u001b[49m\n\u001b[1;32m     95\u001b[0m \u001b[38;5;28;01mif\u001b[39;00m first_step \u001b[38;5;129;01mis\u001b[39;00m \u001b[38;5;28;01mNone\u001b[39;00m:\n\u001b[1;32m     96\u001b[0m     \u001b[38;5;28mself\u001b[39m\u001b[38;5;241m.\u001b[39mh_abs \u001b[38;5;241m=\u001b[39m select_initial_step(\n\u001b[1;32m     97\u001b[0m         \u001b[38;5;28mself\u001b[39m\u001b[38;5;241m.\u001b[39mfun, \u001b[38;5;28mself\u001b[39m\u001b[38;5;241m.\u001b[39mt, \u001b[38;5;28mself\u001b[39m\u001b[38;5;241m.\u001b[39my, \u001b[38;5;28mself\u001b[39m\u001b[38;5;241m.\u001b[39mf, \u001b[38;5;28mself\u001b[39m\u001b[38;5;241m.\u001b[39mdirection,\n\u001b[1;32m     98\u001b[0m         \u001b[38;5;28mself\u001b[39m\u001b[38;5;241m.\u001b[39merror_estimator_order, \u001b[38;5;28mself\u001b[39m\u001b[38;5;241m.\u001b[39mrtol, \u001b[38;5;28mself\u001b[39m\u001b[38;5;241m.\u001b[39matol)\n",
      "File \u001b[0;32m~/anaconda3/lib/python3.10/site-packages/scipy/integrate/_ivp/base.py:138\u001b[0m, in \u001b[0;36mOdeSolver.__init__.<locals>.fun\u001b[0;34m(t, y)\u001b[0m\n\u001b[1;32m    136\u001b[0m \u001b[38;5;28;01mdef\u001b[39;00m \u001b[38;5;21mfun\u001b[39m(t, y):\n\u001b[1;32m    137\u001b[0m     \u001b[38;5;28mself\u001b[39m\u001b[38;5;241m.\u001b[39mnfev \u001b[38;5;241m+\u001b[39m\u001b[38;5;241m=\u001b[39m \u001b[38;5;241m1\u001b[39m\n\u001b[0;32m--> 138\u001b[0m     \u001b[38;5;28;01mreturn\u001b[39;00m \u001b[38;5;28;43mself\u001b[39;49m\u001b[38;5;241;43m.\u001b[39;49m\u001b[43mfun_single\u001b[49m\u001b[43m(\u001b[49m\u001b[43mt\u001b[49m\u001b[43m,\u001b[49m\u001b[43m \u001b[49m\u001b[43my\u001b[49m\u001b[43m)\u001b[49m\n",
      "File \u001b[0;32m~/anaconda3/lib/python3.10/site-packages/scipy/integrate/_ivp/base.py:20\u001b[0m, in \u001b[0;36mcheck_arguments.<locals>.fun_wrapped\u001b[0;34m(t, y)\u001b[0m\n\u001b[1;32m     19\u001b[0m \u001b[38;5;28;01mdef\u001b[39;00m \u001b[38;5;21mfun_wrapped\u001b[39m(t, y):\n\u001b[0;32m---> 20\u001b[0m     \u001b[38;5;28;01mreturn\u001b[39;00m \u001b[43mnp\u001b[49m\u001b[38;5;241;43m.\u001b[39;49m\u001b[43masarray\u001b[49m\u001b[43m(\u001b[49m\u001b[43mfun\u001b[49m\u001b[43m(\u001b[49m\u001b[43mt\u001b[49m\u001b[43m,\u001b[49m\u001b[43m \u001b[49m\u001b[43my\u001b[49m\u001b[43m)\u001b[49m\u001b[43m,\u001b[49m\u001b[43m \u001b[49m\u001b[43mdtype\u001b[49m\u001b[38;5;241;43m=\u001b[39;49m\u001b[43mdtype\u001b[49m\u001b[43m)\u001b[49m\n",
      "\u001b[0;31mValueError\u001b[0m: setting an array element with a sequence. The requested array has an inhomogeneous shape after 1 dimensions. The detected shape was (8,) + inhomogeneous part."
     ]
    }
   ],
   "source": [
    "sol = solve_ivp(bal_rs.external_bal_rs,\n",
    "                (0., 200),\n",
    "                state0,\n",
    "                dense_output=True,\n",
    "                t_eval=np.linspace(0, 200, 200),\n",
    "                events=hit_ground\n",
    "               )"
   ]
  },
  {
   "cell_type": "code",
   "execution_count": null,
   "id": "4760ce2c-f704-492d-8903-5fbe728cdb7c",
   "metadata": {},
   "outputs": [],
   "source": []
  },
  {
   "cell_type": "code",
   "execution_count": null,
   "id": "234cbf03-8be5-4e48-a6d6-21b95f2cbdde",
   "metadata": {},
   "outputs": [],
   "source": []
  },
  {
   "cell_type": "code",
   "execution_count": null,
   "id": "1682a073-c997-48e8-b78e-56aed03655e4",
   "metadata": {},
   "outputs": [],
   "source": []
  }
 ],
 "metadata": {
  "kernelspec": {
   "display_name": "Python 3 (ipykernel)",
   "language": "python",
   "name": "python3"
  },
  "language_info": {
   "codemirror_mode": {
    "name": "ipython",
    "version": 3
   },
   "file_extension": ".py",
   "mimetype": "text/x-python",
   "name": "python",
   "nbconvert_exporter": "python",
   "pygments_lexer": "ipython3",
   "version": "3.10.2"
  }
 },
 "nbformat": 4,
 "nbformat_minor": 5
}
